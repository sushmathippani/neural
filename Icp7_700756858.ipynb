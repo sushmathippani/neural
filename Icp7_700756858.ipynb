{
  "cells": [
    {
      "cell_type": "code",
      "execution_count": null,
      "metadata": {
        "id": "s_jVbz43W1kC"
      },
      "outputs": [],
      "source": [
        "import pandas as pd\n",
        "import numpy as np\n",
        "\n",
        "import matplotlib.pyplot as plt\n",
        "\n",
        "import re\n",
        "\n",
        "from sklearn.model_selection import train_test_split\n",
        "from sklearn.preprocessing import LabelEncoder\n",
        "\n",
        "from keras.preprocessing.text import Tokenizer\n",
        "from tensorflow.keras.preprocessing.sequence import pad_sequences\n",
        "from keras.models import Sequential\n",
        "from keras.layers import Dense, Embedding, LSTM, SpatialDropout1D\n",
        "from keras.utils import to_categorical"
      ]
    },
    {
      "cell_type": "code",
      "execution_count": null,
      "metadata": {
        "colab": {
          "base_uri": "https://localhost:8080/"
        },
        "id": "NjUoMdltYJ7F",
        "outputId": "9d65c19c-b332-4fd9-c59c-0d7ea3d9a5fa"
      },
      "outputs": [
        {
          "name": "stdout",
          "output_type": "stream",
          "text": [
            "291/291 - 50s - loss: 0.8292 - accuracy: 0.6393 - 50s/epoch - 171ms/step\n",
            "144/144 - 5s - loss: 0.7593 - accuracy: 0.6662 - 5s/epoch - 34ms/step\n",
            "0.7592564821243286\n",
            "0.666229784488678\n",
            "['loss', 'accuracy']\n"
          ]
        }
      ],
      "source": [
        "data = pd.read_csv('Sentiment.csv')\n",
        "# Keeping only the neccessary columns\n",
        "data = data[['text','sentiment']]\n",
        "\n",
        "data['text'] = data['text'].apply(lambda x: x.lower())\n",
        "data['text'] = data['text'].apply((lambda x: re.sub('[^a-zA-z0-9\\s]', '', x)))\n",
        "\n",
        "for idx, row in data.iterrows():\n",
        "    row[0] = row[0].replace('rt', ' ')\n",
        "\n",
        "max_fatures = 2000\n",
        "tokenizer = Tokenizer(num_words=max_fatures, split=' ')\n",
        "tokenizer.fit_on_texts(data['text'].values)\n",
        "X = tokenizer.texts_to_sequences(data['text'].values)\n",
        "\n",
        "X = pad_sequences(X)\n",
        "\n",
        "embed_dim = 128\n",
        "lstm_out = 196\n",
        "def createmodel():\n",
        "    model = Sequential()\n",
        "    model.add(Embedding(max_fatures, embed_dim,input_length = X.shape[1]))\n",
        "    model.add(LSTM(lstm_out, dropout=0.2, recurrent_dropout=0.2))\n",
        "    model.add(Dense(3,activation='softmax'))\n",
        "    model.compile(loss = 'categorical_crossentropy', optimizer='adam',metrics = ['accuracy'])\n",
        "    return model\n",
        "# print(model.summary())\n",
        "\n",
        "labelencoder = LabelEncoder()\n",
        "integer_encoded = labelencoder.fit_transform(data['sentiment'])\n",
        "y = to_categorical(integer_encoded)\n",
        "X_train, X_test, Y_train, Y_test = train_test_split(X,y, test_size = 0.33, random_state = 42)\n",
        "\n",
        "batch_size = 32\n",
        "model = createmodel()\n",
        "model.fit(X_train, Y_train, epochs = 1, batch_size=batch_size, verbose = 2)\n",
        "score,acc = model.evaluate(X_test,Y_test,verbose=2,batch_size=batch_size)\n",
        "print(score)\n",
        "print(acc)\n",
        "print(model.metrics_names)\n"
      ]
    },
    {
      "cell_type": "code",
      "execution_count": null,
      "metadata": {
        "colab": {
          "base_uri": "https://localhost:8080/"
        },
        "id": "HdzTjfvnaOwP",
        "outputId": "473b65ea-72c1-4957-99a5-161c1062b929"
      },
      "outputs": [
        {
          "name": "stderr",
          "output_type": "stream",
          "text": [
            "/usr/local/lib/python3.10/dist-packages/keras/src/engine/training.py:3103: UserWarning: You are saving your model as an HDF5 file via `model.save()`. This file format is considered legacy. We recommend using instead the native Keras format, e.g. `model.save('my_model.keras')`.\n",
            "  saving_api.save_model(\n"
          ]
        }
      ],
      "source": [
        "model.save('sentimentAnalysis.h5')"
      ]
    },
    {
      "cell_type": "code",
      "execution_count": null,
      "metadata": {
        "id": "d_0d7CG9ajNl"
      },
      "outputs": [],
      "source": [
        "from keras.models import load_model\n",
        "model= load_model('sentimentAnalysis.h5')"
      ]
    },
    {
      "cell_type": "code",
      "execution_count": null,
      "metadata": {
        "colab": {
          "base_uri": "https://localhost:8080/"
        },
        "id": "jkQ1H7YfarHS",
        "outputId": "3b836a86-ac01-4e52-fb07-dfb0243d5ca7"
      },
      "outputs": [
        {
          "name": "stdout",
          "output_type": "stream",
          "text": [
            "[1 2 1 ... 2 0 2]\n",
            "0         Neutral\n",
            "1        Positive\n",
            "2         Neutral\n",
            "3        Positive\n",
            "4        Positive\n",
            "           ...   \n",
            "13866    Negative\n",
            "13867    Positive\n",
            "13868    Positive\n",
            "13869    Negative\n",
            "13870    Positive\n",
            "Name: sentiment, Length: 13871, dtype: object\n"
          ]
        }
      ],
      "source": [
        "print(integer_encoded)\n",
        "print(data['sentiment'])"
      ]
    },
    {
      "cell_type": "code",
      "execution_count": null,
      "metadata": {
        "colab": {
          "base_uri": "https://localhost:8080/"
        },
        "id": "bTpZQTrCavQP",
        "outputId": "de7db782-c594-4b1b-b51c-33133e4404f3"
      },
      "outputs": [
        {
          "name": "stdout",
          "output_type": "stream",
          "text": [
            "1/1 - 0s - 314ms/epoch - 314ms/step\n",
            "[0.46129748 0.12149629 0.41720623]\n",
            "Neutral\n"
          ]
        }
      ],
      "source": [
        "sentence = ['A lot of good things are happening. We are respected again throughout the world, and that is a great thing.@realDonaldTrump']\n",
        "sentence = tokenizer.texts_to_sequences(sentence)\n",
        "sentence = pad_sequences(sentence, maxlen=28, dtype='int32', value=0)\n",
        "sentiment_probs = model.predict(sentence, batch_size=1, verbose=2)[0]\n",
        "sentiment = np.argmax(sentiment_probs)\n",
        "\n",
        "print(sentiment_probs)\n",
        "if sentiment == 0:\n",
        "    print(\"Neutral\")\n",
        "elif sentiment < 0:\n",
        "    print(\"Negative\")\n",
        "elif sentiment > 0:\n",
        "    print(\"Positive\")\n",
        "else:\n",
        "    print(\"Cannot be determined\")\n"
      ]
    },
    {
      "cell_type": "code",
      "execution_count": null,
      "metadata": {
        "colab": {
          "background_save": true,
          "base_uri": "https://localhost:8080/"
        },
        "id": "qZZPVADOa8SZ",
        "outputId": "e11b1495-d12c-4f50-8f59-6dc9dc47ab80"
      },
      "outputs": [
        {
          "name": "stderr",
          "output_type": "stream",
          "text": [
            "<ipython-input-7-5b4d4aa083bb>:4: DeprecationWarning: KerasClassifier is deprecated, use Sci-Keras (https://github.com/adriangb/scikeras) instead. See https://www.adriangb.com/scikeras/stable/migration.html for help migrating.\n",
            "  model = KerasClassifier(build_fn=createmodel,verbose=2)\n"
          ]
        },
        {
          "name": "stdout",
          "output_type": "stream",
          "text": [
            "744/744 - 99s - loss: 0.8293 - accuracy: 0.6480 - 99s/epoch - 133ms/step\n",
            "186/186 - 3s - loss: 0.7483 - accuracy: 0.6697 - 3s/epoch - 17ms/step\n",
            "744/744 - 100s - loss: 0.8195 - accuracy: 0.6492 - 100s/epoch - 135ms/step\n",
            "186/186 - 4s - loss: 0.7616 - accuracy: 0.6708 - 4s/epoch - 20ms/step\n",
            "744/744 - 100s - loss: 0.8219 - accuracy: 0.6464 - 100s/epoch - 134ms/step\n",
            "186/186 - 3s - loss: 0.7582 - accuracy: 0.6740 - 3s/epoch - 14ms/step\n",
            "744/744 - 100s - loss: 0.8261 - accuracy: 0.6465 - 100s/epoch - 134ms/step\n",
            "186/186 - 3s - loss: 0.7562 - accuracy: 0.6690 - 3s/epoch - 14ms/step\n",
            "744/744 - 99s - loss: 0.8213 - accuracy: 0.6437 - 99s/epoch - 133ms/step\n",
            "186/186 - 3s - loss: 0.7806 - accuracy: 0.6706 - 3s/epoch - 14ms/step\n",
            "Epoch 1/2\n",
            "744/744 - 100s - loss: 0.8243 - accuracy: 0.6470 - 100s/epoch - 134ms/step\n",
            "Epoch 2/2\n",
            "744/744 - 96s - loss: 0.6831 - accuracy: 0.7092 - 96s/epoch - 129ms/step\n",
            "186/186 - 3s - loss: 0.7271 - accuracy: 0.6934 - 3s/epoch - 14ms/step\n",
            "Epoch 1/2\n",
            "744/744 - 99s - loss: 0.8190 - accuracy: 0.6499 - 99s/epoch - 133ms/step\n",
            "Epoch 2/2\n",
            "744/744 - 94s - loss: 0.6837 - accuracy: 0.7082 - 94s/epoch - 126ms/step\n",
            "186/186 - 3s - loss: 0.7593 - accuracy: 0.6826 - 3s/epoch - 16ms/step\n",
            "Epoch 1/2\n",
            "744/744 - 99s - loss: 0.8202 - accuracy: 0.6485 - 99s/epoch - 133ms/step\n",
            "Epoch 2/2\n",
            "744/744 - 93s - loss: 0.6719 - accuracy: 0.7163 - 93s/epoch - 126ms/step\n",
            "186/186 - 3s - loss: 0.7635 - accuracy: 0.6778 - 3s/epoch - 14ms/step\n",
            "Epoch 1/2\n",
            "744/744 - 96s - loss: 0.8266 - accuracy: 0.6436 - 96s/epoch - 129ms/step\n",
            "Epoch 2/2\n",
            "744/744 - 95s - loss: 0.6682 - accuracy: 0.7138 - 95s/epoch - 128ms/step\n",
            "186/186 - 3s - loss: 0.7689 - accuracy: 0.6889 - 3s/epoch - 14ms/step\n",
            "Epoch 1/2\n",
            "744/744 - 98s - loss: 0.8209 - accuracy: 0.6491 - 98s/epoch - 132ms/step\n",
            "Epoch 2/2\n",
            "744/744 - 95s - loss: 0.6662 - accuracy: 0.7146 - 95s/epoch - 128ms/step\n",
            "186/186 - 3s - loss: 0.7963 - accuracy: 0.6561 - 3s/epoch - 14ms/step\n",
            "372/372 - 58s - loss: 0.8376 - accuracy: 0.6433 - 58s/epoch - 155ms/step\n",
            "93/93 - 2s - loss: 0.7685 - accuracy: 0.6799 - 2s/epoch - 25ms/step\n",
            "372/372 - 54s - loss: 0.8344 - accuracy: 0.6433 - 54s/epoch - 146ms/step\n",
            "93/93 - 2s - loss: 0.7547 - accuracy: 0.6713 - 2s/epoch - 19ms/step\n",
            "372/372 - 55s - loss: 0.8289 - accuracy: 0.6430 - 55s/epoch - 149ms/step\n",
            "93/93 - 2s - loss: 0.7497 - accuracy: 0.6837 - 2s/epoch - 19ms/step\n",
            "372/372 - 58s - loss: 0.8297 - accuracy: 0.6428 - 58s/epoch - 156ms/step\n",
            "93/93 - 3s - loss: 0.7288 - accuracy: 0.6841 - 3s/epoch - 27ms/step\n",
            "372/372 - 55s - loss: 0.8254 - accuracy: 0.6438 - 55s/epoch - 148ms/step\n",
            "93/93 - 3s - loss: 0.8447 - accuracy: 0.6577 - 3s/epoch - 33ms/step\n",
            "Epoch 1/2\n",
            "372/372 - 55s - loss: 0.8389 - accuracy: 0.6406 - 55s/epoch - 149ms/step\n",
            "Epoch 2/2\n",
            "372/372 - 54s - loss: 0.6864 - accuracy: 0.7072 - 54s/epoch - 145ms/step\n",
            "93/93 - 2s - loss: 0.7341 - accuracy: 0.6864 - 2s/epoch - 19ms/step\n",
            "Epoch 1/2\n",
            "372/372 - 57s - loss: 0.8337 - accuracy: 0.6478 - 57s/epoch - 153ms/step\n",
            "Epoch 2/2\n",
            "372/372 - 52s - loss: 0.6827 - accuracy: 0.7121 - 52s/epoch - 139ms/step\n",
            "93/93 - 2s - loss: 0.7413 - accuracy: 0.6756 - 2s/epoch - 20ms/step\n",
            "Epoch 1/2\n",
            "372/372 - 58s - loss: 0.8431 - accuracy: 0.6367 - 58s/epoch - 155ms/step\n",
            "Epoch 2/2\n",
            "372/372 - 52s - loss: 0.6796 - accuracy: 0.7147 - 52s/epoch - 139ms/step\n",
            "93/93 - 2s - loss: 0.7404 - accuracy: 0.6923 - 2s/epoch - 19ms/step\n",
            "Epoch 1/2\n",
            "372/372 - 57s - loss: 0.8332 - accuracy: 0.6459 - 57s/epoch - 153ms/step\n",
            "Epoch 2/2\n",
            "372/372 - 52s - loss: 0.6757 - accuracy: 0.7173 - 52s/epoch - 139ms/step\n",
            "93/93 - 2s - loss: 0.7407 - accuracy: 0.6841 - 2s/epoch - 22ms/step\n",
            "Epoch 1/2\n",
            "372/372 - 55s - loss: 0.8297 - accuracy: 0.6421 - 55s/epoch - 147ms/step\n",
            "Epoch 2/2\n",
            "372/372 - 54s - loss: 0.6725 - accuracy: 0.7163 - 54s/epoch - 144ms/step\n",
            "93/93 - 2s - loss: 0.7687 - accuracy: 0.6744 - 2s/epoch - 19ms/step\n",
            "186/186 - 36s - loss: 0.8419 - accuracy: 0.6361 - 36s/epoch - 196ms/step\n",
            "47/47 - 1s - loss: 0.7497 - accuracy: 0.6568 - 1s/epoch - 28ms/step\n",
            "186/186 - 35s - loss: 0.8436 - accuracy: 0.6351 - 35s/epoch - 187ms/step\n",
            "47/47 - 2s - loss: 0.7758 - accuracy: 0.6600 - 2s/epoch - 35ms/step\n",
            "186/186 - 37s - loss: 0.8510 - accuracy: 0.6314 - 37s/epoch - 197ms/step\n",
            "47/47 - 1s - loss: 0.7785 - accuracy: 0.6708 - 1s/epoch - 31ms/step\n",
            "186/186 - 36s - loss: 0.8472 - accuracy: 0.6340 - 36s/epoch - 194ms/step\n",
            "47/47 - 1s - loss: 0.7531 - accuracy: 0.6744 - 1s/epoch - 28ms/step\n",
            "186/186 - 36s - loss: 0.8355 - accuracy: 0.6348 - 36s/epoch - 195ms/step\n",
            "47/47 - 2s - loss: 0.8012 - accuracy: 0.6685 - 2s/epoch - 53ms/step\n",
            "Epoch 1/2\n",
            "186/186 - 35s - loss: 0.8490 - accuracy: 0.6341 - 35s/epoch - 189ms/step\n",
            "Epoch 2/2\n",
            "186/186 - 33s - loss: 0.6952 - accuracy: 0.7037 - 33s/epoch - 179ms/step\n",
            "47/47 - 1s - loss: 0.7331 - accuracy: 0.6686 - 1s/epoch - 28ms/step\n",
            "Epoch 1/2\n",
            "186/186 - 39s - loss: 0.8398 - accuracy: 0.6383 - 39s/epoch - 210ms/step\n",
            "Epoch 2/2\n",
            "186/186 - 31s - loss: 0.6906 - accuracy: 0.7109 - 31s/epoch - 169ms/step\n",
            "47/47 - 2s - loss: 0.7313 - accuracy: 0.6885 - 2s/epoch - 47ms/step\n",
            "Epoch 1/2\n",
            "186/186 - 37s - loss: 0.8461 - accuracy: 0.6308 - 37s/epoch - 197ms/step\n",
            "Epoch 2/2\n",
            "186/186 - 33s - loss: 0.6937 - accuracy: 0.7019 - 33s/epoch - 180ms/step\n",
            "47/47 - 1s - loss: 0.7497 - accuracy: 0.6853 - 1s/epoch - 28ms/step\n",
            "Epoch 1/2\n",
            "186/186 - 36s - loss: 0.8429 - accuracy: 0.6362 - 36s/epoch - 195ms/step\n",
            "Epoch 2/2\n",
            "186/186 - 33s - loss: 0.6909 - accuracy: 0.7050 - 33s/epoch - 179ms/step\n",
            "47/47 - 2s - loss: 0.7457 - accuracy: 0.6868 - 2s/epoch - 47ms/step\n",
            "Epoch 1/2\n",
            "186/186 - 35s - loss: 0.8433 - accuracy: 0.6358 - 35s/epoch - 186ms/step\n",
            "Epoch 2/2\n",
            "186/186 - 33s - loss: 0.6797 - accuracy: 0.7110 - 33s/epoch - 178ms/step\n",
            "47/47 - 1s - loss: 0.7839 - accuracy: 0.6679 - 1s/epoch - 31ms/step\n",
            "Epoch 1/2\n",
            "465/465 - 70s - loss: 0.8184 - accuracy: 0.6461 - 70s/epoch - 151ms/step\n",
            "Epoch 2/2\n",
            "465/465 - 67s - loss: 0.6756 - accuracy: 0.7132 - 67s/epoch - 143ms/step\n",
            "Best: 0.682556 using {'batch_size': 20, 'epochs': 2}\n"
          ]
        }
      ],
      "source": [
        "from keras.wrappers.scikit_learn import KerasClassifier\n",
        "from sklearn.model_selection import GridSearchCV\n",
        "\n",
        "model = KerasClassifier(build_fn=createmodel,verbose=2)\n",
        "batch_size= [10, 20, 40]\n",
        "epochs = [1, 2]\n",
        "param_grid= {'batch_size':batch_size, 'epochs':epochs}\n",
        "grid  = GridSearchCV(estimator=model, param_grid=param_grid)\n",
        "grid_result= grid.fit(X_train,Y_train)\n",
        "\n",
        "print(\"Best: %f using %s\" % (grid_result.best_score_, grid_result.best_params_))"
      ]
    }
  ],
  "metadata": {
    "colab": {
      "provenance": []
    },
    "kernelspec": {
      "display_name": "Python 3",
      "name": "python3"
    },
    "language_info": {
      "name": "python",
      "version": "3.9.13"
    }
  },
  "nbformat": 4,
  "nbformat_minor": 0
}
