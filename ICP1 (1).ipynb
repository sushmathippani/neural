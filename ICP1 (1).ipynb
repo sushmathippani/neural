{
  "nbformat": 4,
  "nbformat_minor": 0,
  "metadata": {
    "colab": {
      "provenance": []
    },
    "kernelspec": {
      "name": "python3",
      "display_name": "Python 3"
    },
    "language_info": {
      "name": "python"
    }
  },
  "cells": [
    {
      "cell_type": "markdown",
      "source": [
        "Sushma Thippani"
      ],
      "metadata": {
        "id": "vSlVto0olRaS"
      }
    },
    {
      "cell_type": "markdown",
      "source": [
        "Question 1"
      ],
      "metadata": {
        "id": "V8v9LeUElOij"
      }
    },
    {
      "cell_type": "code",
      "execution_count": 1,
      "metadata": {
        "colab": {
          "base_uri": "https://localhost:8080/"
        },
        "id": "uTZDIWk6lIwW",
        "outputId": "8a291959-27cf-4c0e-bb51-39f7ec3a56f0"
      },
      "outputs": [
        {
          "output_type": "stream",
          "name": "stdout",
          "text": [
            "Enter your first name: sushma \n",
            "Enter your last name: thippani\n",
            "Your fullname:  sushma  thippani\n"
          ]
        }
      ],
      "source": [
        "def fullname(firstname, lastname):\n",
        "  return firstname+\" \"+ lastname\n",
        "\n",
        "firstname = input('Enter your first name: ')\n",
        "lastname = input('Enter your last name: ')\n",
        "print('Your fullname: ', fullname(firstname, lastname))"
      ]
    },
    {
      "cell_type": "code",
      "source": [
        "def string_alternative(full_name):\n",
        "  out_str = \"\"\n",
        "  counter = 0\n",
        "  for i in full_name:\n",
        "    if counter == 0:\n",
        "      out_str += i\n",
        "      counter = 1\n",
        "    else:\n",
        "      counter = 0\n",
        "  return out_str\n",
        "\n",
        "def main():\n",
        "  first_name = input('Enter your first name: ')\n",
        "  last_name = input('Enter your last name: ')\n",
        "  full_name = first_name+\" \"+last_name\n",
        "  print('Alternatively formatted name: ', string_alternative(full_name))\n",
        "\n",
        "if __name__ == \"__main__\":\n",
        "  main()"
      ],
      "metadata": {
        "colab": {
          "base_uri": "https://localhost:8080/"
        },
        "id": "XpcNSawhogyX",
        "outputId": "5e310899-20a0-4813-984f-772af4dd899c"
      },
      "execution_count": null,
      "outputs": [
        {
          "output_type": "stream",
          "name": "stdout",
          "text": [
            "Enter your first name: Good\n",
            "Enter your last name: evening\n",
            "Alternatively formatted name:  Go vnn\n"
          ]
        }
      ]
    },
    {
      "cell_type": "markdown",
      "source": [
        "Question 2"
      ],
      "metadata": {
        "id": "13z-nUn8uNCA"
      }
    },
    {
      "cell_type": "code",
      "source": [
        "inp_file = open(\"/content/input.txt\", \"r\")\n",
        "out_file = open(\"/content/output.txt\", \"w\")\n",
        "data = {}\n",
        "\n",
        "for i in inp_file:\n",
        "  out_file.write(i)\n",
        "  para_line = i.split()\n",
        "  for j in para_line:\n",
        "    if(data.get(j) == None):\n",
        "      data[j] = 1\n",
        "    else:\n",
        "      data[j] += 1\n",
        "out_file.write(\"\\nWord_Count: \\n \")\n",
        "for key, value in data.items():\n",
        "  out_file.write('%s:%s\\n'%(key, value))\n",
        "inp_file.close()\n",
        "out_file.close()"
      ],
      "metadata": {
        "id": "4ast4KnYtGB-"
      },
      "execution_count": null,
      "outputs": []
    },
    {
      "cell_type": "markdown",
      "source": [
        "Question 3"
      ],
      "metadata": {
        "id": "3Cw6FTWv39hh"
      }
    },
    {
      "cell_type": "code",
      "source": [
        "def InchtoCentimeters(value):\n",
        "  return value*2.54\n",
        "\n",
        "cust_heights = []\n",
        "centi_heights = []\n",
        "listelements = int(input('Enter number of elements in the list: '))\n",
        "for i in range(listelements):\n",
        "  element = int(input('Enter the height: '))\n",
        "  cust_heights.append(element)\n",
        "for ele in cust_heights:\n",
        "  value = int(ele)\n",
        "  centi_heights.append(InchtoCentimeters(value))\n",
        "print(\"Heights in centimeter: \", centi_heights)"
      ],
      "metadata": {
        "colab": {
          "base_uri": "https://localhost:8080/"
        },
        "id": "8Kae9nUP04sB",
        "outputId": "bc905912-e5b1-4e47-b19d-624a320d12ee"
      },
      "execution_count": 3,
      "outputs": [
        {
          "output_type": "stream",
          "name": "stdout",
          "text": [
            "Enter number of elements in the list: 4\n",
            "Enter the height: 150\n",
            "Enter the height: 155\n",
            "Enter the height: 145\n",
            "Enter the height: 148\n",
            "Heights in centimeter:  [381.0, 393.7, 368.3, 375.92]\n"
          ]
        }
      ]
    },
    {
      "cell_type": "code",
      "source": [],
      "metadata": {
        "id": "y362dQVn6Mp7"
      },
      "execution_count": null,
      "outputs": []
    }
  ]
}